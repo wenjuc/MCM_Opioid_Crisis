{
 "cells": [
  {
   "cell_type": "code",
   "execution_count": 1,
   "metadata": {},
   "outputs": [
    {
     "data": {
      "text/plain": [
       "RendererRegistry.enable('notebook')"
      ]
     },
     "execution_count": 1,
     "metadata": {},
     "output_type": "execute_result"
    }
   ],
   "source": [
    "import math\n",
    "import pandas as pd\n",
    "import altair as alt\n",
    "import numpy as np\n",
    "import matplotlib.pyplot as plt\n",
    "from scipy import stats\n",
    "import statsmodels.api as sm\n",
    "import statsmodels.formula.api as smf\n",
    "import seaborn as sns\n",
    "from statsmodels.tools import eval_measures\n",
    "alt.renderers.enable('notebook')"
   ]
  },
  {
   "cell_type": "code",
   "execution_count": 2,
   "metadata": {},
   "outputs": [],
   "source": [
    "nflis_data = pd.read_csv(\"2018_MCMProblemC_DATA/updated_nflis_data.csv\")"
   ]
  },
  {
   "cell_type": "code",
   "execution_count": 3,
   "metadata": {},
   "outputs": [
    {
     "data": {
      "text/html": [
       "<div>\n",
       "<style scoped>\n",
       "    .dataframe tbody tr th:only-of-type {\n",
       "        vertical-align: middle;\n",
       "    }\n",
       "\n",
       "    .dataframe tbody tr th {\n",
       "        vertical-align: top;\n",
       "    }\n",
       "\n",
       "    .dataframe thead th {\n",
       "        text-align: right;\n",
       "    }\n",
       "</style>\n",
       "<table border=\"1\" class=\"dataframe\">\n",
       "  <thead>\n",
       "    <tr style=\"text-align: right;\">\n",
       "      <th></th>\n",
       "      <th>Year</th>\n",
       "      <th>State</th>\n",
       "      <th>County</th>\n",
       "      <th>SubstanceName</th>\n",
       "      <th>DrugReports</th>\n",
       "      <th>DrugReportsCounty</th>\n",
       "      <th>TotalDrugReportsCounty</th>\n",
       "      <th>DrugReportsState</th>\n",
       "      <th>TotalDrugReportsState</th>\n",
       "      <th>County_Rate</th>\n",
       "      <th>State_Rate</th>\n",
       "      <th>County_Rate_Total</th>\n",
       "      <th>State_Rate_Total</th>\n",
       "    </tr>\n",
       "  </thead>\n",
       "  <tbody>\n",
       "    <tr>\n",
       "      <th>0</th>\n",
       "      <td>2010</td>\n",
       "      <td>VA</td>\n",
       "      <td>PITTSYLVANIA</td>\n",
       "      <td>Methadone</td>\n",
       "      <td>2</td>\n",
       "      <td>16</td>\n",
       "      <td>182</td>\n",
       "      <td>8685</td>\n",
       "      <td>41462</td>\n",
       "      <td>0.1250</td>\n",
       "      <td>0.000230</td>\n",
       "      <td>0.010989</td>\n",
       "      <td>0.000048</td>\n",
       "    </tr>\n",
       "    <tr>\n",
       "      <th>1</th>\n",
       "      <td>2010</td>\n",
       "      <td>VA</td>\n",
       "      <td>PITTSYLVANIA</td>\n",
       "      <td>Heroin</td>\n",
       "      <td>1</td>\n",
       "      <td>16</td>\n",
       "      <td>182</td>\n",
       "      <td>8685</td>\n",
       "      <td>41462</td>\n",
       "      <td>0.0625</td>\n",
       "      <td>0.000115</td>\n",
       "      <td>0.005495</td>\n",
       "      <td>0.000024</td>\n",
       "    </tr>\n",
       "    <tr>\n",
       "      <th>2</th>\n",
       "      <td>2010</td>\n",
       "      <td>VA</td>\n",
       "      <td>PITTSYLVANIA</td>\n",
       "      <td>Hydrocodone</td>\n",
       "      <td>7</td>\n",
       "      <td>16</td>\n",
       "      <td>182</td>\n",
       "      <td>8685</td>\n",
       "      <td>41462</td>\n",
       "      <td>0.4375</td>\n",
       "      <td>0.000806</td>\n",
       "      <td>0.038462</td>\n",
       "      <td>0.000169</td>\n",
       "    </tr>\n",
       "    <tr>\n",
       "      <th>3</th>\n",
       "      <td>2010</td>\n",
       "      <td>VA</td>\n",
       "      <td>PITTSYLVANIA</td>\n",
       "      <td>Oxycodone</td>\n",
       "      <td>5</td>\n",
       "      <td>16</td>\n",
       "      <td>182</td>\n",
       "      <td>8685</td>\n",
       "      <td>41462</td>\n",
       "      <td>0.3125</td>\n",
       "      <td>0.000576</td>\n",
       "      <td>0.027473</td>\n",
       "      <td>0.000121</td>\n",
       "    </tr>\n",
       "    <tr>\n",
       "      <th>4</th>\n",
       "      <td>2010</td>\n",
       "      <td>VA</td>\n",
       "      <td>PITTSYLVANIA</td>\n",
       "      <td>Morphine</td>\n",
       "      <td>1</td>\n",
       "      <td>16</td>\n",
       "      <td>182</td>\n",
       "      <td>8685</td>\n",
       "      <td>41462</td>\n",
       "      <td>0.0625</td>\n",
       "      <td>0.000115</td>\n",
       "      <td>0.005495</td>\n",
       "      <td>0.000024</td>\n",
       "    </tr>\n",
       "  </tbody>\n",
       "</table>\n",
       "</div>"
      ],
      "text/plain": [
       "   Year State        County SubstanceName  DrugReports  DrugReportsCounty  \\\n",
       "0  2010    VA  PITTSYLVANIA     Methadone            2                 16   \n",
       "1  2010    VA  PITTSYLVANIA        Heroin            1                 16   \n",
       "2  2010    VA  PITTSYLVANIA   Hydrocodone            7                 16   \n",
       "3  2010    VA  PITTSYLVANIA     Oxycodone            5                 16   \n",
       "4  2010    VA  PITTSYLVANIA      Morphine            1                 16   \n",
       "\n",
       "   TotalDrugReportsCounty  DrugReportsState  TotalDrugReportsState  \\\n",
       "0                     182              8685                  41462   \n",
       "1                     182              8685                  41462   \n",
       "2                     182              8685                  41462   \n",
       "3                     182              8685                  41462   \n",
       "4                     182              8685                  41462   \n",
       "\n",
       "   County_Rate  State_Rate  County_Rate_Total  State_Rate_Total  \n",
       "0       0.1250    0.000230           0.010989          0.000048  \n",
       "1       0.0625    0.000115           0.005495          0.000024  \n",
       "2       0.4375    0.000806           0.038462          0.000169  \n",
       "3       0.3125    0.000576           0.027473          0.000121  \n",
       "4       0.0625    0.000115           0.005495          0.000024  "
      ]
     },
     "execution_count": 3,
     "metadata": {},
     "output_type": "execute_result"
    }
   ],
   "source": [
    "nflis_data.head()"
   ]
  },
  {
   "cell_type": "code",
   "execution_count": 20,
   "metadata": {},
   "outputs": [
    {
     "name": "stdout",
     "output_type": "stream",
     "text": [
      "69\n"
     ]
    }
   ],
   "source": [
    "print(len(set(nflis_data['SubstanceName'])))"
   ]
  },
  {
   "cell_type": "code",
   "execution_count": null,
   "metadata": {},
   "outputs": [],
   "source": [
    "def count_d"
   ]
  },
  {
   "cell_type": "markdown",
   "metadata": {},
   "source": [
    "Pethidine"
   ]
  },
  {
   "cell_type": "code",
   "execution_count": 14,
   "metadata": {},
   "outputs": [],
   "source": [
    "Pethidine_data = nflis_data.loc[nflis_data['SubstanceName'] == 'Pethidine']\n",
    "state_lst = list(Pethidine_data['State'])\n",
    "Pethidine_data_dict = {\n",
    "    'KY': state_lst.count('KY'),\n",
    "    'OH': state_lst.count('OH'),\n",
    "    'PA': state_lst.count('PA'),\n",
    "    'VA': state_lst.count('VA')\n",
    "}  "
   ]
  },
  {
   "cell_type": "code",
   "execution_count": 15,
   "metadata": {},
   "outputs": [
    {
     "data": {
      "text/plain": [
       "{'KY': 5, 'OH': 1, 'PA': 5, 'VA': 1}"
      ]
     },
     "execution_count": 15,
     "metadata": {},
     "output_type": "execute_result"
    }
   ],
   "source": [
    "Pethidine_data_dict"
   ]
  },
  {
   "cell_type": "code",
   "execution_count": 24,
   "metadata": {},
   "outputs": [
    {
     "data": {
      "text/plain": [
       "{'KY': 1, 'OH': 2, 'PA': 1, 'WV': 1}"
      ]
     },
     "execution_count": 24,
     "metadata": {},
     "output_type": "execute_result"
    }
   ],
   "source": [
    "Thebaine_data = nflis_data.loc[nflis_data['SubstanceName'] == 'Thebaine']\n",
    "state_lst = list(Thebaine_data['State'])\n",
    "Thebaine_data_dict = {\n",
    "    'KY': state_lst.count('KY'),\n",
    "    'OH': state_lst.count('OH'),\n",
    "    'PA': state_lst.count('PA'),\n",
    "    'WV': state_lst.count('WV')\n",
    "} \n",
    "Thebaine_data_dict"
   ]
  },
  {
   "cell_type": "code",
   "execution_count": 22,
   "metadata": {},
   "outputs": [
    {
     "data": {
      "text/plain": [
       "{'KY', 'OH', 'PA', 'WV'}"
      ]
     },
     "execution_count": 22,
     "metadata": {},
     "output_type": "execute_result"
    }
   ],
   "source": [
    "set(Thebaine_data['State'])"
   ]
  },
  {
   "cell_type": "code",
   "execution_count": 25,
   "metadata": {},
   "outputs": [
    {
     "data": {
      "text/html": [
       "<div>\n",
       "<style scoped>\n",
       "    .dataframe tbody tr th:only-of-type {\n",
       "        vertical-align: middle;\n",
       "    }\n",
       "\n",
       "    .dataframe tbody tr th {\n",
       "        vertical-align: top;\n",
       "    }\n",
       "\n",
       "    .dataframe thead th {\n",
       "        text-align: right;\n",
       "    }\n",
       "</style>\n",
       "<table border=\"1\" class=\"dataframe\">\n",
       "  <thead>\n",
       "    <tr style=\"text-align: right;\">\n",
       "      <th></th>\n",
       "      <th>Year</th>\n",
       "      <th>State</th>\n",
       "      <th>County</th>\n",
       "      <th>SubstanceName</th>\n",
       "      <th>DrugReports</th>\n",
       "      <th>DrugReportsCounty</th>\n",
       "      <th>TotalDrugReportsCounty</th>\n",
       "      <th>DrugReportsState</th>\n",
       "      <th>TotalDrugReportsState</th>\n",
       "      <th>County_Rate</th>\n",
       "      <th>State_Rate</th>\n",
       "      <th>County_Rate_Total</th>\n",
       "      <th>State_Rate_Total</th>\n",
       "    </tr>\n",
       "  </thead>\n",
       "  <tbody>\n",
       "    <tr>\n",
       "      <th>880</th>\n",
       "      <td>2010</td>\n",
       "      <td>WV</td>\n",
       "      <td>MARION</td>\n",
       "      <td>Thebaine</td>\n",
       "      <td>1</td>\n",
       "      <td>145</td>\n",
       "      <td>348</td>\n",
       "      <td>2890</td>\n",
       "      <td>8668</td>\n",
       "      <td>0.006897</td>\n",
       "      <td>0.000346</td>\n",
       "      <td>0.002874</td>\n",
       "      <td>0.000115</td>\n",
       "    </tr>\n",
       "    <tr>\n",
       "      <th>1810</th>\n",
       "      <td>2010</td>\n",
       "      <td>KY</td>\n",
       "      <td>WARREN</td>\n",
       "      <td>Thebaine</td>\n",
       "      <td>1</td>\n",
       "      <td>61</td>\n",
       "      <td>620</td>\n",
       "      <td>10453</td>\n",
       "      <td>29588</td>\n",
       "      <td>0.016393</td>\n",
       "      <td>0.000096</td>\n",
       "      <td>0.001613</td>\n",
       "      <td>0.000034</td>\n",
       "    </tr>\n",
       "    <tr>\n",
       "      <th>5457</th>\n",
       "      <td>2011</td>\n",
       "      <td>PA</td>\n",
       "      <td>PIKE</td>\n",
       "      <td>Thebaine</td>\n",
       "      <td>2</td>\n",
       "      <td>60</td>\n",
       "      <td>185</td>\n",
       "      <td>19987</td>\n",
       "      <td>86793</td>\n",
       "      <td>0.033333</td>\n",
       "      <td>0.000100</td>\n",
       "      <td>0.010811</td>\n",
       "      <td>0.000023</td>\n",
       "    </tr>\n",
       "    <tr>\n",
       "      <th>15573</th>\n",
       "      <td>2015</td>\n",
       "      <td>OH</td>\n",
       "      <td>BUTLER</td>\n",
       "      <td>Thebaine</td>\n",
       "      <td>2</td>\n",
       "      <td>1078</td>\n",
       "      <td>2594</td>\n",
       "      <td>37127</td>\n",
       "      <td>109150</td>\n",
       "      <td>0.001855</td>\n",
       "      <td>0.000054</td>\n",
       "      <td>0.000771</td>\n",
       "      <td>0.000018</td>\n",
       "    </tr>\n",
       "    <tr>\n",
       "      <th>21798</th>\n",
       "      <td>2017</td>\n",
       "      <td>OH</td>\n",
       "      <td>STARK</td>\n",
       "      <td>Thebaine</td>\n",
       "      <td>5</td>\n",
       "      <td>1155</td>\n",
       "      <td>4686</td>\n",
       "      <td>46104</td>\n",
       "      <td>119349</td>\n",
       "      <td>0.004329</td>\n",
       "      <td>0.000108</td>\n",
       "      <td>0.001067</td>\n",
       "      <td>0.000042</td>\n",
       "    </tr>\n",
       "  </tbody>\n",
       "</table>\n",
       "</div>"
      ],
      "text/plain": [
       "       Year State  County SubstanceName  DrugReports  DrugReportsCounty  \\\n",
       "880    2010    WV  MARION      Thebaine            1                145   \n",
       "1810   2010    KY  WARREN      Thebaine            1                 61   \n",
       "5457   2011    PA    PIKE      Thebaine            2                 60   \n",
       "15573  2015    OH  BUTLER      Thebaine            2               1078   \n",
       "21798  2017    OH   STARK      Thebaine            5               1155   \n",
       "\n",
       "       TotalDrugReportsCounty  DrugReportsState  TotalDrugReportsState  \\\n",
       "880                       348              2890                   8668   \n",
       "1810                      620             10453                  29588   \n",
       "5457                      185             19987                  86793   \n",
       "15573                    2594             37127                 109150   \n",
       "21798                    4686             46104                 119349   \n",
       "\n",
       "       County_Rate  State_Rate  County_Rate_Total  State_Rate_Total  \n",
       "880       0.006897    0.000346           0.002874          0.000115  \n",
       "1810      0.016393    0.000096           0.001613          0.000034  \n",
       "5457      0.033333    0.000100           0.010811          0.000023  \n",
       "15573     0.001855    0.000054           0.000771          0.000018  \n",
       "21798     0.004329    0.000108           0.001067          0.000042  "
      ]
     },
     "execution_count": 25,
     "metadata": {},
     "output_type": "execute_result"
    }
   ],
   "source": [
    "Thebaine_data"
   ]
  }
 ],
 "metadata": {
  "kernelspec": {
   "display_name": "Python 3",
   "language": "python",
   "name": "python3"
  },
  "language_info": {
   "codemirror_mode": {
    "name": "ipython",
    "version": 3
   },
   "file_extension": ".py",
   "mimetype": "text/x-python",
   "name": "python",
   "nbconvert_exporter": "python",
   "pygments_lexer": "ipython3",
   "version": "3.6.5"
  }
 },
 "nbformat": 4,
 "nbformat_minor": 2
}
