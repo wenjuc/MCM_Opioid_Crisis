{
 "cells": [
  {
   "cell_type": "code",
   "execution_count": 11,
   "metadata": {},
   "outputs": [],
   "source": [
    "import math\n",
    "import pandas as pd\n",
    "# import altair as alt\n",
    "import numpy as np\n",
    "import matplotlib.pyplot as plt\n",
    "from scipy import stats\n",
    "# import statsmodels.api as sm\n",
    "# import statsmodels.formula.api as smf\n",
    "# import seaborn as sns\n",
    "# from statsmodels.tools import eval_measures\n",
    "# alt.renderers.enable('notebook')\n",
    "import operator\n",
    "import json\n",
    "# from sklearn.ensemble import ExtraTreesClassifier\n",
    "from sklearn.ensemble import ExtraTreesRegressor\n",
    "from sklearn.feature_selection import SelectFromModel\n"
   ]
  },
  {
   "cell_type": "code",
   "execution_count": 7,
   "metadata": {},
   "outputs": [],
   "source": [
    "data_2010 = pd.read_csv(\"2018_MCMProblemC_DATA/out/2010_merged.csv\")\n",
    "data_2011 = pd.read_csv(\"2018_MCMProblemC_DATA/out/2011_merged.csv\")\n",
    "data_2012 = pd.read_csv(\"2018_MCMProblemC_DATA/out/2012_merged.csv\")\n",
    "data_2013 = pd.read_csv(\"2018_MCMProblemC_DATA/out/2013_merged.csv\")\n",
    "data_2014 = pd.read_csv(\"2018_MCMProblemC_DATA/out/2014_merged.csv\")\n",
    "data_2015 = pd.read_csv(\"2018_MCMProblemC_DATA/out/2015_merged.csv\")\n",
    "data_2016 = pd.read_csv(\"2018_MCMProblemC_DATA/out/2016_merged.csv\")"
   ]
  },
  {
   "cell_type": "code",
   "execution_count": 8,
   "metadata": {},
   "outputs": [],
   "source": [
    "data_2010 = data_2010.drop(data_2010.columns[0], axis = 1) ## drop the necessary first col (extra index)\n",
    "data_2011 = data_2011.drop(data_2011.columns[0], axis = 1)\n",
    "data_2012 = data_2012.drop(data_2012.columns[0], axis = 1)\n",
    "data_2013 = data_2013.drop(data_2013.columns[0], axis = 1)\n",
    "data_2014 = data_2014.drop(data_2014.columns[0], axis = 1)\n",
    "data_2015 = data_2015.drop(data_2015.columns[0], axis = 1)\n",
    "data_2016 = data_2016.drop(data_2016.columns[0], axis = 1)"
   ]
  },
  {
   "cell_type": "code",
   "execution_count": 9,
   "metadata": {},
   "outputs": [
    {
     "data": {
      "text/html": [
       "<div>\n",
       "<style scoped>\n",
       "    .dataframe tbody tr th:only-of-type {\n",
       "        vertical-align: middle;\n",
       "    }\n",
       "\n",
       "    .dataframe tbody tr th {\n",
       "        vertical-align: top;\n",
       "    }\n",
       "\n",
       "    .dataframe thead th {\n",
       "        text-align: right;\n",
       "    }\n",
       "</style>\n",
       "<table border=\"1\" class=\"dataframe\">\n",
       "  <thead>\n",
       "    <tr style=\"text-align: right;\">\n",
       "      <th></th>\n",
       "      <th>YYYY</th>\n",
       "      <th>FIPS_Combined</th>\n",
       "      <th>COUNTY</th>\n",
       "      <th>State</th>\n",
       "      <th>TotalDrugReportsCounty</th>\n",
       "      <th>GEO.id</th>\n",
       "      <th>GEO.id2</th>\n",
       "      <th>GEO.display-label</th>\n",
       "      <th>HC01_VC03</th>\n",
       "      <th>HC02_VC03</th>\n",
       "      <th>...</th>\n",
       "      <th>HC03_VC207</th>\n",
       "      <th>HC04_VC207</th>\n",
       "      <th>HC01_VC208</th>\n",
       "      <th>HC02_VC208</th>\n",
       "      <th>HC03_VC208</th>\n",
       "      <th>HC04_VC208</th>\n",
       "      <th>HC01_VC209</th>\n",
       "      <th>HC02_VC209</th>\n",
       "      <th>HC03_VC209</th>\n",
       "      <th>HC04_VC209</th>\n",
       "    </tr>\n",
       "  </thead>\n",
       "  <tbody>\n",
       "    <tr>\n",
       "      <th>0</th>\n",
       "      <td>2011</td>\n",
       "      <td>21001</td>\n",
       "      <td>ADAIR</td>\n",
       "      <td>KY</td>\n",
       "      <td>540</td>\n",
       "      <td>0500000US21001</td>\n",
       "      <td>21001</td>\n",
       "      <td>Adair County, Kentucky</td>\n",
       "      <td>7193</td>\n",
       "      <td>267</td>\n",
       "      <td>...</td>\n",
       "      <td>0.0</td>\n",
       "      <td>0.2</td>\n",
       "      <td>1</td>\n",
       "      <td>3</td>\n",
       "      <td>0.0</td>\n",
       "      <td>0.1</td>\n",
       "      <td>11</td>\n",
       "      <td>19</td>\n",
       "      <td>0.1</td>\n",
       "      <td>0.1</td>\n",
       "    </tr>\n",
       "    <tr>\n",
       "      <th>1</th>\n",
       "      <td>2011</td>\n",
       "      <td>21003</td>\n",
       "      <td>ALLEN</td>\n",
       "      <td>KY</td>\n",
       "      <td>690</td>\n",
       "      <td>0500000US21003</td>\n",
       "      <td>21003</td>\n",
       "      <td>Allen County, Kentucky</td>\n",
       "      <td>7849</td>\n",
       "      <td>252</td>\n",
       "      <td>...</td>\n",
       "      <td>0.0</td>\n",
       "      <td>0.2</td>\n",
       "      <td>29</td>\n",
       "      <td>27</td>\n",
       "      <td>0.1</td>\n",
       "      <td>0.1</td>\n",
       "      <td>0</td>\n",
       "      <td>89</td>\n",
       "      <td>0.0</td>\n",
       "      <td>0.2</td>\n",
       "    </tr>\n",
       "    <tr>\n",
       "      <th>2</th>\n",
       "      <td>2011</td>\n",
       "      <td>21005</td>\n",
       "      <td>ANDERSON</td>\n",
       "      <td>KY</td>\n",
       "      <td>1088</td>\n",
       "      <td>0500000US21005</td>\n",
       "      <td>21005</td>\n",
       "      <td>Anderson County, Kentucky</td>\n",
       "      <td>8386</td>\n",
       "      <td>1558</td>\n",
       "      <td>...</td>\n",
       "      <td>1.0</td>\n",
       "      <td>1.5</td>\n",
       "      <td>110</td>\n",
       "      <td>99</td>\n",
       "      <td>0.5</td>\n",
       "      <td>0.5</td>\n",
       "      <td>0</td>\n",
       "      <td>89</td>\n",
       "      <td>0.0</td>\n",
       "      <td>0.2</td>\n",
       "    </tr>\n",
       "    <tr>\n",
       "      <th>3</th>\n",
       "      <td>2011</td>\n",
       "      <td>21007</td>\n",
       "      <td>BALLARD</td>\n",
       "      <td>KY</td>\n",
       "      <td>17</td>\n",
       "      <td>0500000US21007</td>\n",
       "      <td>21007</td>\n",
       "      <td>Ballard County, Kentucky</td>\n",
       "      <td>3358</td>\n",
       "      <td>145</td>\n",
       "      <td>...</td>\n",
       "      <td>0.0</td>\n",
       "      <td>0.4</td>\n",
       "      <td>26</td>\n",
       "      <td>21</td>\n",
       "      <td>0.3</td>\n",
       "      <td>0.3</td>\n",
       "      <td>12</td>\n",
       "      <td>19</td>\n",
       "      <td>0.1</td>\n",
       "      <td>0.2</td>\n",
       "    </tr>\n",
       "    <tr>\n",
       "      <th>4</th>\n",
       "      <td>2011</td>\n",
       "      <td>21009</td>\n",
       "      <td>BARREN</td>\n",
       "      <td>KY</td>\n",
       "      <td>4230</td>\n",
       "      <td>0500000US21009</td>\n",
       "      <td>21009</td>\n",
       "      <td>Barren County, Kentucky</td>\n",
       "      <td>16708</td>\n",
       "      <td>393</td>\n",
       "      <td>...</td>\n",
       "      <td>0.0</td>\n",
       "      <td>0.1</td>\n",
       "      <td>225</td>\n",
       "      <td>132</td>\n",
       "      <td>0.5</td>\n",
       "      <td>0.3</td>\n",
       "      <td>22</td>\n",
       "      <td>42</td>\n",
       "      <td>0.1</td>\n",
       "      <td>0.1</td>\n",
       "    </tr>\n",
       "  </tbody>\n",
       "</table>\n",
       "<p>5 rows × 514 columns</p>\n",
       "</div>"
      ],
      "text/plain": [
       "   YYYY  FIPS_Combined    COUNTY State  TotalDrugReportsCounty  \\\n",
       "0  2011          21001     ADAIR    KY                     540   \n",
       "1  2011          21003     ALLEN    KY                     690   \n",
       "2  2011          21005  ANDERSON    KY                    1088   \n",
       "3  2011          21007   BALLARD    KY                      17   \n",
       "4  2011          21009    BARREN    KY                    4230   \n",
       "\n",
       "           GEO.id  GEO.id2          GEO.display-label  HC01_VC03  HC02_VC03  \\\n",
       "0  0500000US21001    21001     Adair County, Kentucky       7193        267   \n",
       "1  0500000US21003    21003     Allen County, Kentucky       7849        252   \n",
       "2  0500000US21005    21005  Anderson County, Kentucky       8386       1558   \n",
       "3  0500000US21007    21007   Ballard County, Kentucky       3358        145   \n",
       "4  0500000US21009    21009    Barren County, Kentucky      16708        393   \n",
       "\n",
       "      ...      HC03_VC207  HC04_VC207  HC01_VC208  HC02_VC208  HC03_VC208  \\\n",
       "0     ...             0.0         0.2           1           3         0.0   \n",
       "1     ...             0.0         0.2          29          27         0.1   \n",
       "2     ...             1.0         1.5         110          99         0.5   \n",
       "3     ...             0.0         0.4          26          21         0.3   \n",
       "4     ...             0.0         0.1         225         132         0.5   \n",
       "\n",
       "   HC04_VC208  HC01_VC209  HC02_VC209  HC03_VC209  HC04_VC209  \n",
       "0         0.1          11          19         0.1         0.1  \n",
       "1         0.1           0          89         0.0         0.2  \n",
       "2         0.5           0          89         0.0         0.2  \n",
       "3         0.3          12          19         0.1         0.2  \n",
       "4         0.3          22          42         0.1         0.1  \n",
       "\n",
       "[5 rows x 514 columns]"
      ]
     },
     "execution_count": 9,
     "metadata": {},
     "output_type": "execute_result"
    }
   ],
   "source": [
    "data_2011.head()"
   ]
  },
  {
   "cell_type": "code",
   "execution_count": 10,
   "metadata": {},
   "outputs": [],
   "source": [
    "..........."
   ]
  },
  {
   "cell_type": "code",
   "execution_count": 56,
   "metadata": {},
   "outputs": [],
   "source": [
    "def get_feature_importance_tree(dataframe, year):  \n",
    "    '''\n",
    "    get the feature importance by ExtraTreeRegressor\n",
    "    export the result as .csv file \n",
    "    '''\n",
    "    X = dataframe.drop(\"TotalDrugReportsCounty\", axis = 1)\n",
    "    y = dataframe['TotalDrugReportsCounty']\n",
    "\n",
    "    rg = ExtraTreesRegressor()\n",
    "    rg = rg.fit(X, y)\n",
    "    \n",
    "#     model = SelectFromModel(rg, prefit=True)\n",
    "#     feature_idx = model.get_support()\n",
    "#     feature_name = X.columns[feature_idx]\n",
    "    \n",
    "    importance_lst = list(rg.feature_importances_)\n",
    "    \n",
    "#     return importance_lst\n",
    "    importance_dict = {\n",
    "        'feature': list(X),\n",
    "        'importance': importance_lst\n",
    "    }\n",
    "    importance_df = pd.DataFrame.from_dict(importance_dict)\n",
    "    importance_df.to_csv(str(year) + '_feature_importance_extratree.csv', index = None)"
   ]
  },
  {
   "cell_type": "code",
   "execution_count": 57,
   "metadata": {},
   "outputs": [],
   "source": [
    "get_feature_importance_tree(data_2010, '2010')\n",
    "get_feature_importance_tree(data_2011, '2011')\n",
    "get_feature_importance_tree(data_2012, '2012')\n",
    "get_feature_importance_tree(data_2013, '2013')\n",
    "get_feature_importance_tree(data_2014, '2014')\n",
    "get_feature_importance_tree(data_2015, '2015')\n",
    "get_feature_importance_tree(data_2016, '2016')"
   ]
  },
  {
   "cell_type": "code",
   "execution_count": null,
   "metadata": {},
   "outputs": [],
   "source": []
  },
  {
   "cell_type": "code",
   "execution_count": null,
   "metadata": {},
   "outputs": [],
   "source": []
  },
  {
   "cell_type": "code",
   "execution_count": null,
   "metadata": {},
   "outputs": [],
   "source": []
  },
  {
   "cell_type": "code",
   "execution_count": 48,
   "metadata": {},
   "outputs": [
    {
     "name": "stdout",
     "output_type": "stream",
     "text": [
      "0.1484460799163236\n"
     ]
    }
   ],
   "source": [
    "X = data_2015.drop(\"TotalDrugReportsCounty\", axis = 1)\n",
    "y = data_2015['TotalDrugReportsCounty']\n",
    "\n",
    "rg = ExtraTreesRegressor()\n",
    "rg = rg.fit(X, y)\n",
    "\n",
    "model = SelectFromModel(rg, prefit=True)\n",
    "feature_idx = model.get_support()\n",
    "feature_name = X.columns[feature_idx]\n",
    "# model.get_params(deep=True)\n",
    "# rg.score(X, y, sample_weight=None)\n",
    "print(max(rg.feature_importances_))"
   ]
  },
  {
   "cell_type": "code",
   "execution_count": 32,
   "metadata": {},
   "outputs": [],
   "source": [
    "from sklearn import linear_model\n",
    "\n",
    "def get_coeff_lasso(dataframe, year):\n",
    "    X = dataframe.drop(\"TotalDrugReportsCounty\", axis = 1)\n",
    "    y = dataframe['TotalDrugReportsCounty']\n",
    "    clf = linear_model.Lasso(alpha=0.1)\n",
    "    clf.fit(X, y)\n",
    "\n",
    "    coeff_lst = list(clf.coef_)\n",
    "\n",
    "    coeff_dict = {\n",
    "        'feature': list(X),\n",
    "        'coeff': coeff_lst\n",
    "    }\n",
    "    coeff_df = pd.DataFrame.from_dict(coeff_dict)\n",
    "    coeff_df.to_csv(str(year) + '_coeff_list.csv', index = None)"
   ]
  },
  {
   "cell_type": "code",
   "execution_count": 33,
   "metadata": {},
   "outputs": [
    {
     "name": "stderr",
     "output_type": "stream",
     "text": [
      "/Users/wenjuc/anaconda3/lib/python3.6/site-packages/sklearn/linear_model/coordinate_descent.py:491: ConvergenceWarning: Objective did not converge. You might want to increase the number of iterations. Fitting data with very small alpha may cause precision problems.\n",
      "  ConvergenceWarning)\n"
     ]
    }
   ],
   "source": [
    "get_coeff_lasso(data_2011, '2011')\n",
    "get_coeff_lasso(data_2012, '2012')\n",
    "get_coeff_lasso(data_2013, '2013')\n",
    "get_coeff_lasso(data_2014, '2014')\n",
    "get_coeff_lasso(data_2015, '2015')\n",
    "get_coeff_lasso(data_2016, '2016')"
   ]
  },
  {
   "cell_type": "code",
   "execution_count": 26,
   "metadata": {},
   "outputs": [],
   "source": [
    "coeff_df = pd.DataFrame.from_dict(coeff_dict)"
   ]
  },
  {
   "cell_type": "code",
   "execution_count": 29,
   "metadata": {},
   "outputs": [],
   "source": [
    "coeff_df.to_csv('2010_coeff_list.csv', index = None)"
   ]
  },
  {
   "cell_type": "code",
   "execution_count": 101,
   "metadata": {},
   "outputs": [],
   "source": [
    "# get_features(data_2010)\n",
    "with open('2010_features_list.txt', 'w') as f:\n",
    "    for item in get_features(data_2010):\n",
    "        f.write(\"%s\\n\" % item)"
   ]
  },
  {
   "cell_type": "code",
   "execution_count": 102,
   "metadata": {},
   "outputs": [],
   "source": [
    "# get_features(data_2011)\n",
    "with open('2011_features_list.txt', 'w') as f:\n",
    "    for item in get_features(data_2011):\n",
    "        f.write(\"%s\\n\" % item)"
   ]
  },
  {
   "cell_type": "code",
   "execution_count": 103,
   "metadata": {},
   "outputs": [],
   "source": [
    "# get_features(data_2012)\n",
    "with open('2012_features_list.txt', 'w') as f:\n",
    "    for item in get_features(data_2012):\n",
    "        f.write(\"%s\\n\" % item)"
   ]
  },
  {
   "cell_type": "code",
   "execution_count": 104,
   "metadata": {},
   "outputs": [],
   "source": [
    "# get_features(data_2013)\n",
    "with open('2013_features_list.txt', 'w') as f:\n",
    "    for item in get_features(data_2013):\n",
    "        f.write(\"%s\\n\" % item)"
   ]
  },
  {
   "cell_type": "code",
   "execution_count": 105,
   "metadata": {},
   "outputs": [],
   "source": [
    "# get_features(data_2014)\n",
    "with open('2014_features_list.txt', 'w') as f:\n",
    "    for item in get_features(data_2014):\n",
    "        f.write(\"%s\\n\" % item)"
   ]
  },
  {
   "cell_type": "code",
   "execution_count": 106,
   "metadata": {},
   "outputs": [],
   "source": [
    "# get_features(data_2015)\n",
    "with open('2015_features_list.txt', 'w') as f:\n",
    "    for item in get_features(data_2015):\n",
    "        f.write(\"%s\\n\" % item)"
   ]
  },
  {
   "cell_type": "code",
   "execution_count": 107,
   "metadata": {},
   "outputs": [],
   "source": [
    "# get_features(data_2016)\n",
    "with open('2016_features_list.txt', 'w') as f:\n",
    "    for item in get_features(data_2016):\n",
    "        f.write(\"%s\\n\" % item)"
   ]
  },
  {
   "cell_type": "code",
   "execution_count": null,
   "metadata": {},
   "outputs": [],
   "source": []
  }
 ],
 "metadata": {
  "kernelspec": {
   "display_name": "Python 3",
   "language": "python",
   "name": "python3"
  },
  "language_info": {
   "codemirror_mode": {
    "name": "ipython",
    "version": 3
   },
   "file_extension": ".py",
   "mimetype": "text/x-python",
   "name": "python",
   "nbconvert_exporter": "python",
   "pygments_lexer": "ipython3",
   "version": "3.6.1"
  }
 },
 "nbformat": 4,
 "nbformat_minor": 2
}
